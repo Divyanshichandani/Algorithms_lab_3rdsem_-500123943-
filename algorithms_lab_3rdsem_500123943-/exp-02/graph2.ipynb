{
  "nbformat": 4,
  "nbformat_minor": 0,
  "metadata": {
    "colab": {
      "provenance": []
    },
    "kernelspec": {
      "name": "python3",
      "display_name": "Python 3"
    },
    "language_info": {
      "name": "python"
    }
  },
  "cells": [
    {
      "cell_type": "code",
      "execution_count": null,
      "metadata": {
        "id": "DPZKSrA5ZOju"
      },
      "outputs": [],
      "source": [
        "import matplotlib.pyplot as plt\n",
        "\n",
        "# Data for Set Size, Merge Sort Time, and Quick Sort Time\n",
        "set_size = [1000, 5000, 10000, 50000, 100000]\n",
        "merge_sort_time = [0.001000, 0.001000, 0.002000, 0.015000, 0.031000]\n",
        "quick_sort_time = [0.000000, 0.001000, 0.002000, 0.011000, 0.018000]\n",
        "\n",
        "# Create the plot\n",
        "plt.figure(figsize=(10, 6))\n",
        "\n",
        "# Plot the Merge Sort Time vs Set Size\n",
        "plt.plot(set_size, merge_sort_time, label='Merge Sort Time', marker='o', color='blue', linestyle='-', linewidth=2)\n",
        "\n",
        "# Plot the Quick Sort Time vs Set Size\n",
        "plt.plot(set_size, quick_sort_time, label='Quick Sort Time', marker='o', color='red', linestyle='-', linewidth=2)\n",
        "\n",
        "# Add labels and title\n",
        "plt.xlabel('Set Size')\n",
        "plt.ylabel('Time (seconds)')\n",
        "plt.title('Performance Comparison: Merge Sort vs Quick Sort')\n",
        "\n",
        "# Add a legend\n",
        "plt.legend()\n",
        "\n",
        "# Add grid for better readability\n",
        "plt.grid(True)\n",
        "\n",
        "# Display the plot\n",
        "plt.show()"
      ]
    }
  ]
}